{
 "cells": [
  {
   "cell_type": "code",
   "execution_count": 1,
   "metadata": {
    "id": "wka5k6c5uTz9"
   },
   "outputs": [],
   "source": [
    "import numpy as np\n",
    "from tensorflow.keras.datasets import boston_housing\n",
    "from tensorflow.keras.models import Sequential\n",
    "from tensorflow.keras.layers import Dense, Dropout\n",
    "from tensorflow.keras.layers import BatchNormalization\n",
    "from tensorflow.keras.callbacks import ModelCheckpoint\n",
    "from tensorflow.keras.callbacks import TensorBoard\n",
    "import os"
   ]
  },
  {
   "cell_type": "code",
   "execution_count": 2,
   "metadata": {
    "colab": {
     "base_uri": "https://localhost:8080/",
     "height": 0
    },
    "id": "UFKE7DF-uitN",
    "outputId": "a6e0bb0d-dc31-4130-dd88-8b9c3f23ddfc"
   },
   "outputs": [],
   "source": [
    "(X_train, y_train), (X_valid, y_valid) = boston_housing.load_data()"
   ]
  },
  {
   "cell_type": "code",
   "execution_count": 3,
   "metadata": {
    "colab": {
     "base_uri": "https://localhost:8080/",
     "height": 0
    },
    "id": "jJ4_z9RjuqXV",
    "outputId": "c936e614-d770-4ebb-d0f4-b6195564153d"
   },
   "outputs": [
    {
     "data": {
      "text/plain": [
       "(404, 13)"
      ]
     },
     "execution_count": 3,
     "metadata": {},
     "output_type": "execute_result"
    }
   ],
   "source": [
    "X_train.shape"
   ]
  },
  {
   "cell_type": "code",
   "execution_count": 4,
   "metadata": {
    "colab": {
     "base_uri": "https://localhost:8080/",
     "height": 0
    },
    "id": "NLKb_wXCuuHE",
    "outputId": "c650d8da-0674-49e7-ba80-18caf17cfc71"
   },
   "outputs": [
    {
     "data": {
      "text/plain": [
       "(102, 13)"
      ]
     },
     "execution_count": 4,
     "metadata": {},
     "output_type": "execute_result"
    }
   ],
   "source": [
    "X_valid.shape"
   ]
  },
  {
   "cell_type": "code",
   "execution_count": 5,
   "metadata": {
    "colab": {
     "base_uri": "https://localhost:8080/",
     "height": 0
    },
    "id": "dZkyBsAouy7u",
    "outputId": "27da445b-2198-4480-ce52-460578e8d1fa"
   },
   "outputs": [
    {
     "data": {
      "text/plain": [
       "array([  1.23247,   0.     ,   8.14   ,   0.     ,   0.538  ,   6.142  ,\n",
       "        91.7    ,   3.9769 ,   4.     , 307.     ,  21.     , 396.9    ,\n",
       "        18.72   ])"
      ]
     },
     "execution_count": 5,
     "metadata": {},
     "output_type": "execute_result"
    }
   ],
   "source": [
    "X_train[0]"
   ]
  },
  {
   "cell_type": "code",
   "execution_count": 6,
   "metadata": {
    "colab": {
     "base_uri": "https://localhost:8080/",
     "height": 0
    },
    "id": "T9_z4c_Vu2uQ",
    "outputId": "f513b23c-630b-4a50-9518-873facd3f462"
   },
   "outputs": [
    {
     "data": {
      "text/plain": [
       "15.2"
      ]
     },
     "execution_count": 6,
     "metadata": {},
     "output_type": "execute_result"
    }
   ],
   "source": [
    "y_train[0]"
   ]
  },
  {
   "cell_type": "code",
   "execution_count": 7,
   "metadata": {
    "id": "rUdqviVqu4Fm"
   },
   "outputs": [],
   "source": [
    "model = Sequential()\n",
    "model.add(Dense(32, input_dim=13, activation='relu'))\n",
    "model.add(BatchNormalization())\n",
    "model.add(Dense(16, activation='relu'))\n",
    "model.add(BatchNormalization())\n",
    "model.add(Dropout(0.2))\n",
    "model.add(Dense(1, activation='linear'))"
   ]
  },
  {
   "cell_type": "code",
   "execution_count": 8,
   "metadata": {
    "colab": {
     "base_uri": "https://localhost:8080/",
     "height": 0
    },
    "id": "urKzZSctu-Bg",
    "outputId": "dea55c21-e342-4900-e0e9-47c407f4f220"
   },
   "outputs": [
    {
     "name": "stdout",
     "output_type": "stream",
     "text": [
      "Model: \"sequential\"\n",
      "_________________________________________________________________\n",
      " Layer (type)                Output Shape              Param #   \n",
      "=================================================================\n",
      " dense (Dense)               (None, 32)                448       \n",
      "                                                                 \n",
      " batch_normalization (BatchN  (None, 32)               128       \n",
      " ormalization)                                                   \n",
      "                                                                 \n",
      " dense_1 (Dense)             (None, 16)                528       \n",
      "                                                                 \n",
      " batch_normalization_1 (Batc  (None, 16)               64        \n",
      " hNormalization)                                                 \n",
      "                                                                 \n",
      " dropout (Dropout)           (None, 16)                0         \n",
      "                                                                 \n",
      " dense_2 (Dense)             (None, 1)                 17        \n",
      "                                                                 \n",
      "=================================================================\n",
      "Total params: 1,185\n",
      "Trainable params: 1,089\n",
      "Non-trainable params: 96\n",
      "_________________________________________________________________\n"
     ]
    }
   ],
   "source": [
    "model.summary()"
   ]
  },
  {
   "cell_type": "code",
   "execution_count": 9,
   "metadata": {
    "id": "T78VuWTrvEvP"
   },
   "outputs": [],
   "source": [
    "model.compile(loss='mean_squared_error', optimizer='adam', )"
   ]
  },
  {
   "cell_type": "code",
   "execution_count": 10,
   "metadata": {
    "id": "YXDRWhijvHRG"
   },
   "outputs": [],
   "source": [
    "output_dir = 'model_output/'"
   ]
  },
  {
   "cell_type": "code",
   "execution_count": 11,
   "metadata": {
    "id": "Fl0iN0dDvLDT"
   },
   "outputs": [],
   "source": [
    "run_name = 'regression_baseline'\n",
    "output_path = output_dir + run_name"
   ]
  },
  {
   "cell_type": "code",
   "execution_count": 12,
   "metadata": {
    "id": "xUg2KJ3IvQfI"
   },
   "outputs": [
    {
     "name": "stdout",
     "output_type": "stream",
     "text": [
      "Epoch 1/32\n",
      "51/51 [==============================] - 1s 7ms/step - loss: 576.2867 - val_loss: 589.6393\n",
      "Epoch 2/32\n",
      "51/51 [==============================] - 0s 3ms/step - loss: 552.9456 - val_loss: 561.3812\n",
      "Epoch 3/32\n",
      "51/51 [==============================] - 0s 3ms/step - loss: 533.0521 - val_loss: 530.6301\n",
      "Epoch 4/32\n",
      "51/51 [==============================] - 0s 3ms/step - loss: 508.0359 - val_loss: 536.5437\n",
      "Epoch 5/32\n",
      "51/51 [==============================] - 0s 3ms/step - loss: 483.8412 - val_loss: 453.7055\n",
      "Epoch 6/32\n",
      "51/51 [==============================] - 0s 3ms/step - loss: 449.3979 - val_loss: 399.8633\n",
      "Epoch 7/32\n",
      "51/51 [==============================] - 0s 3ms/step - loss: 419.6029 - val_loss: 310.0923\n",
      "Epoch 8/32\n",
      "51/51 [==============================] - 0s 3ms/step - loss: 385.4851 - val_loss: 262.9846\n",
      "Epoch 9/32\n",
      "51/51 [==============================] - 0s 3ms/step - loss: 353.2139 - val_loss: 249.2196\n",
      "Epoch 10/32\n",
      "51/51 [==============================] - 0s 3ms/step - loss: 302.0009 - val_loss: 253.3591\n",
      "Epoch 11/32\n",
      "51/51 [==============================] - 0s 3ms/step - loss: 255.8231 - val_loss: 222.7004\n",
      "Epoch 12/32\n",
      "51/51 [==============================] - 0s 3ms/step - loss: 221.4053 - val_loss: 265.2067\n",
      "Epoch 13/32\n",
      "51/51 [==============================] - 0s 3ms/step - loss: 188.3396 - val_loss: 195.3676\n",
      "Epoch 14/32\n",
      "51/51 [==============================] - 0s 3ms/step - loss: 151.0260 - val_loss: 178.5303\n",
      "Epoch 15/32\n",
      "51/51 [==============================] - 0s 3ms/step - loss: 137.1793 - val_loss: 189.9816\n",
      "Epoch 16/32\n",
      "51/51 [==============================] - 0s 3ms/step - loss: 109.4193 - val_loss: 89.5405\n",
      "Epoch 17/32\n",
      "51/51 [==============================] - 0s 3ms/step - loss: 98.2393 - val_loss: 67.3925\n",
      "Epoch 18/32\n",
      "51/51 [==============================] - 0s 4ms/step - loss: 78.6322 - val_loss: 118.6387\n",
      "Epoch 19/32\n",
      "51/51 [==============================] - 0s 3ms/step - loss: 70.2998 - val_loss: 84.4935\n",
      "Epoch 20/32\n",
      "51/51 [==============================] - 0s 3ms/step - loss: 54.4216 - val_loss: 90.8276\n",
      "Epoch 21/32\n",
      "51/51 [==============================] - 0s 3ms/step - loss: 53.4477 - val_loss: 28.3056\n",
      "Epoch 22/32\n",
      "51/51 [==============================] - 0s 3ms/step - loss: 60.6184 - val_loss: 59.2527\n",
      "Epoch 23/32\n",
      "51/51 [==============================] - 0s 4ms/step - loss: 50.9834 - val_loss: 56.1447\n",
      "Epoch 24/32\n",
      "51/51 [==============================] - 0s 3ms/step - loss: 45.0707 - val_loss: 61.7380\n",
      "Epoch 25/32\n",
      "51/51 [==============================] - 0s 3ms/step - loss: 45.2714 - val_loss: 49.6202\n",
      "Epoch 26/32\n",
      "51/51 [==============================] - 0s 3ms/step - loss: 43.7151 - val_loss: 51.1677\n",
      "Epoch 27/32\n",
      "51/51 [==============================] - 0s 3ms/step - loss: 40.4330 - val_loss: 30.9523\n",
      "Epoch 28/32\n",
      "51/51 [==============================] - 0s 3ms/step - loss: 48.6083 - val_loss: 29.7604\n",
      "Epoch 29/32\n",
      "51/51 [==============================] - 0s 3ms/step - loss: 47.3202 - val_loss: 29.4368\n",
      "Epoch 30/32\n",
      "51/51 [==============================] - 0s 3ms/step - loss: 38.1611 - val_loss: 61.2172\n",
      "Epoch 31/32\n",
      "51/51 [==============================] - 0s 3ms/step - loss: 47.6613 - val_loss: 30.2976\n",
      "Epoch 32/32\n",
      "51/51 [==============================] - 0s 3ms/step - loss: 49.7020 - val_loss: 122.1550\n"
     ]
    },
    {
     "data": {
      "text/plain": [
       "<keras.callbacks.History at 0x2c053d39640>"
      ]
     },
     "execution_count": 12,
     "metadata": {},
     "output_type": "execute_result"
    }
   ],
   "source": [
    "if not os.path.exists(output_path):\n",
    "  os.makedirs(output_path)\n",
    "modelcheckpoint = ModelCheckpoint(output_path + '/weights.{epoch:02d}.hdf5', # decimal integers\n",
    "save_weights_only=True) # otherwise full model is saved\n",
    "tensorboard = TensorBoard(log_dir='logs/' + run_name)\n",
    "model.fit(X_train, y_train,\n",
    "batch_size=8, epochs=32, verbose=1,\n",
    "validation_data=(X_valid, y_valid),\n",
    "callbacks=[modelcheckpoint, tensorboard])"
   ]
  },
  {
   "cell_type": "code",
   "execution_count": 15,
   "metadata": {
    "colab": {
     "base_uri": "https://localhost:8080/",
     "height": 0
    },
    "id": "vHAIpu_4vsiX",
    "outputId": "aa299911-f1cb-4e28-8a5c-ee91e635e146"
   },
   "outputs": [
    {
     "data": {
      "text/plain": [
       "array([  9.32909,   0.     ,  18.1    ,   0.     ,   0.713  ,   6.185  ,\n",
       "        98.7    ,   2.2616 ,  24.     , 666.     ,  20.2    , 396.9    ,\n",
       "        18.13   ])"
      ]
     },
     "execution_count": 15,
     "metadata": {},
     "output_type": "execute_result"
    }
   ],
   "source": [
    "X_valid[42]"
   ]
  },
  {
   "cell_type": "code",
   "execution_count": 16,
   "metadata": {
    "colab": {
     "base_uri": "https://localhost:8080/",
     "height": 0
    },
    "id": "cO7M85eRvykG",
    "outputId": "d8c07abf-0bd9-4bdf-e447-d0f8e4a16b17"
   },
   "outputs": [
    {
     "data": {
      "text/plain": [
       "14.1"
      ]
     },
     "execution_count": 16,
     "metadata": {},
     "output_type": "execute_result"
    }
   ],
   "source": [
    "y_valid[42]"
   ]
  },
  {
   "cell_type": "code",
   "execution_count": 17,
   "metadata": {
    "colab": {
     "base_uri": "https://localhost:8080/",
     "height": 0
    },
    "id": "yBPCNy0Mv1gf",
    "outputId": "aac2790c-927b-409d-8e7e-418ef434a694"
   },
   "outputs": [
    {
     "name": "stdout",
     "output_type": "stream",
     "text": [
      "1/1 [==============================] - 0s 110ms/step\n"
     ]
    },
    {
     "data": {
      "text/plain": [
       "array([[18.509872]], dtype=float32)"
      ]
     },
     "execution_count": 17,
     "metadata": {},
     "output_type": "execute_result"
    }
   ],
   "source": [
    "model.predict(np.reshape(X_valid[42], [1, 13]))"
   ]
  }
 ],
 "metadata": {
  "colab": {
   "provenance": []
  },
  "kernelspec": {
   "display_name": "Python 3 (ipykernel)",
   "language": "python",
   "name": "python3"
  },
  "language_info": {
   "codemirror_mode": {
    "name": "ipython",
    "version": 3
   },
   "file_extension": ".py",
   "mimetype": "text/x-python",
   "name": "python",
   "nbconvert_exporter": "python",
   "pygments_lexer": "ipython3",
   "version": "3.9.13"
  }
 },
 "nbformat": 4,
 "nbformat_minor": 1
}
